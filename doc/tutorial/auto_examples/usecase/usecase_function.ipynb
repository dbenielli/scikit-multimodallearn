{
  "cells": [
    {
      "cell_type": "markdown",
      "metadata": {},
      "source": [
        "\n# Use Case Function module\n\nFunction plot_subplot\n"
      ]
    },
    {
      "cell_type": "code",
      "execution_count": null,
      "metadata": {
        "collapsed": false
      },
      "outputs": [],
      "source": [
        "import numpy as np\nimport matplotlib.pyplot as plt\nimport matplotlib._color_data as mcd\n\n\ndef plot_subplot(X, Y, Y_pred, vue, subplot, title):\n    cn = mcd.CSS4_COLORS\n    classes = np.unique(Y)\n    n_classes = len(np.unique(Y))\n    axs = plt.subplot(subplot[0],subplot[1],subplot[2])\n    axs.set_title(title)\n    #plt.scatter(X._extract_view(vue), X._extract_view(vue), s=40, c='gray',\n    #            edgecolors=(0, 0, 0))\n    for index, k in zip(range(n_classes), cn.keys()):\n         Y_class, = np.where(Y==classes[index])\n         Y_class_pred = np.intersect1d(np.where(Y_pred==classes[index])[0], np.where(Y_pred==Y)[0])\n         plt.scatter(X._extract_view(vue)[Y_class],\n                     X._extract_view(vue)[Y_class],\n                     s=40, c=cn[k], edgecolors='blue', linewidths=2, label=\"class real class: \"+str(index)) #\n         plt.scatter(X._extract_view(vue)[Y_class_pred],\n                     X._extract_view(vue)[Y_class_pred],\n                     s=160, edgecolors='orange', linewidths=2, label=\"class prediction: \"+str(index))\n\n\nif __name__ == '__main__':\n    pass"
      ]
    }
  ],
  "metadata": {
    "kernelspec": {
      "display_name": "Python 3",
      "language": "python",
      "name": "python3"
    },
    "language_info": {
      "codemirror_mode": {
        "name": "ipython",
        "version": 3
      },
      "file_extension": ".py",
      "mimetype": "text/x-python",
      "name": "python",
      "nbconvert_exporter": "python",
      "pygments_lexer": "ipython3",
      "version": "3.10.12"
    }
  },
  "nbformat": 4,
  "nbformat_minor": 0
}